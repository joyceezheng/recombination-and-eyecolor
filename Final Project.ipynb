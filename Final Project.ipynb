{
 "cells": [
  {
   "cell_type": "markdown",
   "metadata": {},
   "source": [
    "# Recombination & Eye Color\n",
    "### by Joyce Zheng"
   ]
  },
  {
   "cell_type": "code",
   "execution_count": 146,
   "metadata": {},
   "outputs": [],
   "source": [
    "from datascience import *\n",
    "import numpy as np\n",
    "import random\n",
    "import matplotlib\n",
    "%matplotlib inline\n",
    "import matplotlib.pyplot as plt\n",
    "#plt.style.use('fivethirtyeight')\n",
    "#from client.api.notebook import Notebook"
   ]
  },
  {
   "cell_type": "markdown",
   "metadata": {},
   "source": [
    "### Purpose\n",
    "Study how having great-grandparents of Asian and European descent affect the great-grandchild's eye color.\n",
    "\n",
    "\n",
    "### General Information on the Determination of Eye Color\n",
    "- Green alleles are **dominant** over blue alleles, and brown alleles are **dominant** over both blue and green alleles\n",
    "- If you received a blue allele and a brown allele, your eye color would be **brown** because brown is the dominant allele\n",
    "- If you have blue eyes, that means you received blue alleles from **both** parents\n",
    "\n",
    "\n",
    "### General Approach\n",
    "- Identify **3** genes/locations of the genome that contribute to the determination of eye color\n",
    "- Run two simulations with great-grandparents that have different location values. For each simulation:\n",
    "    - Recombine the genes to obtain alleles for the child\n",
    "    - Analyze the eye color of the offspring\n",
    "\n",
    "\n",
    "### Defining Genotype to Phenotype Mapping\n",
    "We can observe 11, 12, 21, or 22 at a given location. **1 is dominant (brown)**, so an 11, 12, or 21 would all result in offspring with brown eyes.\n",
    "\n",
    "**For example**, if grandparent 1 had 3 location values of 22, 22, 22 and grandparent 8 had 3 location values of 11, 11, 21, after recombination, we could get for this specific pairing of grandparents values of 21 and 22.\n",
    "\n",
    "The offspring's eye color is determined by the dominant color at the locations. **Going off the example above**, suppose the offspring had locations of 21, 21, and 22 after recombination. This means that at location 1, the first allele would have a dominating number of 2's and the second allele would have a dominating number of 1's. Locations 1 and 2 would thus signify brown eyes while location 3 would signify blue eyes. Since 2/3 of the locations are brown eyes, the offspring would have **brown eyes**.\n",
    "\n",
    "\n",
    "### Grandparents\n",
    "\n",
    "<img src='image1.png' width=400>"
   ]
  },
  {
   "cell_type": "markdown",
   "metadata": {},
   "source": [
    "### Functions"
   ]
  },
  {
   "cell_type": "code",
   "execution_count": 147,
   "metadata": {},
   "outputs": [
    {
     "data": {
      "text/plain": [
       "array(['AAAAAAAAAAAAAAAAAAAAAAAAAAAAAAAAAAAAAAAAAAAAAAAAAAAAAAAAAAAAAAAAAAAAAAAAAAAAAAAAAAAAAAAAAAAAAAAAAAAABBBBBBBBBBBBBBBBBBBBBBBBBBBBBBBBBBBBBBBBBBBBBBBBBBBBBBBBBBBAAAAAAAAAAAAAAAAAAAAAAAAAAAAAAAAAAAAAAAA',\n",
       "       'AAAAAAAAAAAAAAAAAAAAAAAAAAAAAAAAAAAAAAAAAAAAAAAAAAAAAAAAAAAAAAAAAAAAAAAAAAAAAAAAAAAAAAAAAAAAAAAAAAAAAAAAAAAAAAAAAAAAAAAAAAAAAAAAAAAAAAAAAAAAAAAAAAAAAAAAAAAAAAABBBBBBBBBBBBBBBBBBBBBBBBBBBBBBBBBBBBBBBB'],\n",
       "      dtype='<U199')"
      ]
     },
     "execution_count": 147,
     "metadata": {},
     "output_type": "execute_result"
    }
   ],
   "source": [
    "# Write a function that models the recombination of two chromosomes. \n",
    "\n",
    "seq1 = 'A'*1000\n",
    "seq2 = 'B'*1000\n",
    "\n",
    "def recombine(seq1, seq2, r = 8):\n",
    "    l1 = len(seq1)\n",
    "    l2 = len(seq2)\n",
    "    if l1 == l2:\n",
    "        n_sites = np.random.poisson(lam = r*l1/1000) + 1\n",
    "        sites = random.sample(list(np.arange(1, l1-1)), n_sites)\n",
    "        sites = np.r_[0, np.sort(sites), l1-1]\n",
    "        l_s = len(sites)\n",
    "        out1 = ''\n",
    "        out2 = ''\n",
    "        for i in np.arange(0, l_s-1):\n",
    "            if i % 2 == 0:\n",
    "                out1 += seq1[sites[i]:sites[i+1]]\n",
    "                out2 += seq2[sites[i]:sites[i+1]]\n",
    "            elif i % 2 == 1:\n",
    "                out1 += seq2[sites[i]:sites[i+1]]\n",
    "                out2 += seq1[sites[i]:sites[i+1]]\n",
    "        return(make_array(out1, out2))\n",
    "    else:\n",
    "        return(\"Sequence lengths don't match\")\n",
    "    \n",
    "seq1 = 'A'*100 + 'B'*100\n",
    "seq2 = 'A'*100 + 'A'*100\n",
    "   \n",
    "recombine(seq1, seq2)\n"
   ]
  },
  {
   "cell_type": "code",
   "execution_count": 148,
   "metadata": {},
   "outputs": [],
   "source": [
    "# Write a function named inherited_chroms which takes two arrays of two chromosomes as arguments and yields\n",
    "# a pair of chromosomes that are obtained via recombination. Output should be an array of length two which\n",
    "# contains the two chromosomes.\n",
    "\n",
    "def inherited_chroms(parent1, parent2):\n",
    "    p1 = recombine(parent1[0], parent1[1])\n",
    "    p2 = recombine(parent2[0], parent2[1])\n",
    "    \n",
    "    to_inherit = random.choices([0,1], k = 2)\n",
    "    child_seqs = make_array(p1[to_inherit[0]], p2[to_inherit[1]])\n",
    "    return(child_seqs)"
   ]
  },
  {
   "cell_type": "code",
   "execution_count": 149,
   "metadata": {},
   "outputs": [],
   "source": [
    "# Here's a function that plots \"painted\" chromosomes for two populations.\n",
    "\n",
    "def paint_chroms(chroms):\n",
    "    l = len(chroms[0])\n",
    "    color_1 = list()\n",
    "    for i in chroms[0]:\n",
    "        if i == '1':\n",
    "            color_1.append('blue')\n",
    "        elif i == '2':\n",
    "            color_1.append('red')\n",
    "    color_2 = list()\n",
    "    for i in chroms[1]:\n",
    "        if i == '1':\n",
    "            color_2.append('blue')\n",
    "        elif i == '2':\n",
    "            color_2.append('red')\n",
    "    plt.scatter(np.arange(l), [1]*l, color = color_1)\n",
    "    plt.scatter(np.arange(l), [-1]*l, color = color_2)\n",
    "    plt.ylim(-2, 2)\n",
    "    plt.show()"
   ]
  },
  {
   "cell_type": "code",
   "execution_count": 150,
   "metadata": {},
   "outputs": [],
   "source": [
    "# Here's a function that makes sequences for a set number of individuals and 2 populations. You can use\n",
    "# mine or write your own. This function takes the number of individuals, identity of individuals which are \n",
    "# in population 2, and length of the sequence and returns a list of arrays containing each individual's\n",
    "# chromosome pairs.\n",
    "\n",
    "def seq_maker(n_individuals, pop_2_indices):\n",
    "    pop_1 = '1' * 1000\n",
    "    pop_2 = '2' * 1000\n",
    "    ind_list = list()\n",
    "    for i in np.arange(n_individuals):\n",
    "        if i in pop_2_indices:\n",
    "            ind_list.append(make_array(pop_2, pop_2))\n",
    "        else:\n",
    "            ind_list.append(make_array(pop_1, pop_1))\n",
    "    return(ind_list)\n"
   ]
  },
  {
   "cell_type": "code",
   "execution_count": 151,
   "metadata": {},
   "outputs": [],
   "source": [
    "# Write a function that models recombination from grandparents. The input should be a list of length-2 arrays,\n",
    "# each of which contains a pair of chromosomes.\n",
    "\n",
    "def grandparents_recomb(gp_list):\n",
    "    parent_1 = inherited_chroms(gp_list[0], gp_list[1])\n",
    "    parent_2 = inherited_chroms(gp_list[2], gp_list[3])\n",
    "    child = inherited_chroms(parent_1, parent_2)\n",
    "    return(child)"
   ]
  },
  {
   "cell_type": "code",
   "execution_count": 152,
   "metadata": {},
   "outputs": [],
   "source": [
    "# Model recombination from great-grandparents. Inputs are two lists of chromosomes from grandparents.\n",
    "\n",
    "def greatgrandparents_recomb(gp_list_1, gp_list_2):\n",
    "    c_1 = grandparents_recomb(gp_list_1)\n",
    "    c_2 = grandparents_recomb(gp_list_2)\n",
    "    gc_1 = inherited_chroms(c_1, c_2)\n",
    "    return(gc_1)"
   ]
  },
  {
   "cell_type": "code",
   "execution_count": 153,
   "metadata": {},
   "outputs": [],
   "source": [
    "# Generate sequences for grandparents and great-grandparents\n",
    "gp_list = seq_maker(4, [0])\n",
    "gp_list_1 = seq_maker(4, [0])\n",
    "gp_list_2 = seq_maker(4, [])"
   ]
  },
  {
   "cell_type": "code",
   "execution_count": 154,
   "metadata": {},
   "outputs": [
    {
     "data": {
      "image/png": "[encoded data removed]",
      "text/plain": [
       "<Figure size 432x288 with 1 Axes>"
      ]
     },
     "metadata": {
      "needs_background": "light"
     },
     "output_type": "display_data"
    }
   ],
   "source": [
    "# Example of the grandchild's chromosomes\n",
    "gc_1 = grandparents_recomb(gp_list)\n",
    "paint_chroms(gc_1)"
   ]
  },
  {
   "cell_type": "code",
   "execution_count": 155,
   "metadata": {},
   "outputs": [
    {
     "data": {
      "image/png": "[encoded data removed]",
      "text/plain": [
       "<Figure size 432x288 with 1 Axes>"
      ]
     },
     "metadata": {
      "needs_background": "light"
     },
     "output_type": "display_data"
    }
   ],
   "source": [
    "# Example of the great-grandchild's chromosomes\n",
    "ggc_1 = greatgrandparents_recomb(gp_list_1, gp_list_2)\n",
    "paint_chroms(ggc_1)"
   ]
  },
  {
   "cell_type": "code",
   "execution_count": 156,
   "metadata": {},
   "outputs": [],
   "source": [
    "# function that determines whether there are more 1's or 2's. This determines what allele is present\n",
    "def more(array):\n",
    "    ones = 0\n",
    "    twos = 0\n",
    "    i = len(array) - 1\n",
    "    while i >= 0:\n",
    "        if (int(array[i]) == 1):\n",
    "            ones += 1\n",
    "        else:\n",
    "            twos += 1\n",
    "        i -= 1\n",
    "    if (ones > twos):\n",
    "        return 1\n",
    "    else:\n",
    "        return 2"
   ]
  },
  {
   "cell_type": "code",
   "execution_count": 157,
   "metadata": {},
   "outputs": [],
   "source": [
    "# function that determines if the child has blue or brown eyes at one location. \n",
    "# The child has brown eyes if at least of the locations is equal to 1\n",
    "def determination_one_loc(location):\n",
    "    loc_1 = more(location[0])\n",
    "    loc_2 = more(location[1])\n",
    "    if (loc_1 == 1 or loc_2 == 1):\n",
    "        return 1\n",
    "    else:\n",
    "        return 2"
   ]
  },
  {
   "cell_type": "code",
   "execution_count": 158,
   "metadata": {},
   "outputs": [],
   "source": [
    "# function for one simulation of recombination\n",
    "def simulation():\n",
    "    loc1 = greatgrandparents_recomb(side1_loc1, side2_loc1)\n",
    "    loc2 = greatgrandparents_recomb(side1_loc2, side2_loc2)\n",
    "    loc3 = greatgrandparents_recomb(side1_loc3, side2_loc3)\n",
    "    d_1 = determination_one_loc(loc1)\n",
    "    d_2 = determination_one_loc(loc2)\n",
    "    d_3 = determination_one_loc(loc3)\n",
    "    if (d_1 + d_2 + d_3 <= 4):\n",
    "        return 1\n",
    "    else:\n",
    "        return 2"
   ]
  },
  {
   "cell_type": "markdown",
   "metadata": {},
   "source": [
    "### Recombination Simulation #1\n",
    "\n",
    "In this simulation, 6/8 of the great-grandparents have brown eyes.\n",
    "\n",
    "##### Great-grandparent eye colors and locations\n",
    "- Great-grandparent 1: blue eyed\n",
    "    - **Location 1:** 22\n",
    "    - **Location 2:** 22\n",
    "    - **Location 3:** 22\n",
    "- Great-grandparent 2: blue eyed\n",
    "    - **Location 1:** 22\n",
    "    - **Location 2:** 22\n",
    "    - **Location 3:** 22\n",
    "- Great-grandparent 3: brown eyed\n",
    "    - **Location 1:** 11\n",
    "    - **Location 2:** 11\n",
    "    - **Location 3:** 11\n",
    "- Great-grandparent 4: brown eyed\n",
    "    - **Location 1:** 11\n",
    "    - **Location 2:** 11\n",
    "    - **Location 3:** 11\n",
    "- Great-grandparent 5: brown eyed\n",
    "    - **Location 1:** 12\n",
    "    - **Location 2:** 12\n",
    "    - **Location 3:** 22\n",
    "- Great-grandparent 6: brown eyed\n",
    "    - **Location 1:** 12\n",
    "    - **Location 2:** 12\n",
    "    - **Location 3:** 22\n",
    "- Great-grandparent 7: brown eyed\n",
    "    - **Location 1:** 11\n",
    "    - **Location 2:** 12\n",
    "    - **Location 3:** 22\n",
    "- Great-grandparent 8: brown eyed\n",
    "    - **Location 1:** 11\n",
    "    - **Location 2:** 12\n",
    "    - **Location 3:** 22"
   ]
  },
  {
   "cell_type": "code",
   "execution_count": 159,
   "metadata": {},
   "outputs": [],
   "source": [
    "# Creating lists of great grandparents' location values\n",
    "ggp1_loc1 = ['2'*100, '2'*100]\n",
    "ggp1_loc2 = ['2'*100, '2'*100]\n",
    "ggp1_loc3 = ['2'*100, '2'*100]\n",
    "\n",
    "ggp2_loc1 = ['2'*100, '2'*100]\n",
    "ggp2_loc2 = ['2'*100, '2'*100]\n",
    "ggp2_loc3 = ['2'*100, '2'*100]\n",
    "\n",
    "ggp3_loc1 = ['1'*100, '1'*100]\n",
    "ggp3_loc2 = ['1'*100, '1'*100]\n",
    "ggp3_loc3 = ['1'*100, '1'*100]\n",
    "\n",
    "ggp4_loc1 = ['1'*100, '1'*100]\n",
    "ggp4_loc2 = ['1'*100, '1'*100]\n",
    "ggp4_loc3 = ['1'*100, '1'*100]\n",
    "\n",
    "ggp5_loc1 = ['1'*100, '2'*100]\n",
    "ggp5_loc2 = ['1'*100, '2'*100]\n",
    "ggp5_loc3 = ['2'*100, '2'*100]\n",
    "\n",
    "ggp6_loc1 = ['1'*100, '2'*100]\n",
    "ggp6_loc2 = ['1'*100, '2'*100]\n",
    "ggp6_loc3 = ['2'*100, '2'*100]\n",
    "\n",
    "ggp7_loc1 = ['1'*100, '1'*100]\n",
    "ggp7_loc2 = ['1'*100, '2'*100]\n",
    "ggp7_loc3 = ['2'*100, '2'*100]\n",
    "\n",
    "ggp8_loc1 = ['1'*100, '1'*100]\n",
    "ggp8_loc2 = ['1'*100, '2'*100]\n",
    "ggp8_loc3 = ['2'*100, '2'*100]\n",
    "\n",
    "side1_loc1 = [ggp1_loc1, ggp8_loc1, ggp3_loc1, ggp4_loc1]\n",
    "side2_loc1 = [ggp2_loc1, ggp7_loc1, ggp5_loc1, ggp6_loc1]\n",
    "side1_loc2 = [ggp1_loc2, ggp8_loc2, ggp3_loc2, ggp4_loc2]\n",
    "side2_loc2 = [ggp2_loc2, ggp7_loc2, ggp5_loc2, ggp6_loc2]\n",
    "side1_loc3 = [ggp1_loc3, ggp8_loc3, ggp3_loc3, ggp4_loc3]\n",
    "side2_loc3 = [ggp2_loc3, ggp7_loc3, ggp5_loc3, ggp6_loc3]"
   ]
  },
  {
   "cell_type": "code",
   "execution_count": 160,
   "metadata": {},
   "outputs": [
    {
     "data": {
      "text/plain": [
       "array([2., 1., 2., 1., 1., 1., 1., 2., 1., 2., 1., 1., 2., 1., 1., 1., 1.,\n",
       "       1., 1., 1., 1., 1., 1., 1., 1., 2., 1., 1., 2., 1., 1., 1., 1., 1.,\n",
       "       1., 1., 2., 1., 1., 2., 1., 1., 1., 1., 2., 1., 1., 2., 1., 1., 2.,\n",
       "       1., 1., 1., 1., 1., 2., 1., 1., 1., 1., 2., 1., 1., 1., 1., 1., 2.,\n",
       "       2., 1., 1., 2., 1., 1., 1., 1., 1., 1., 1., 1., 2., 1., 1., 1., 2.,\n",
       "       1., 2., 1., 1., 1., 1., 1., 1., 1., 2., 1., 2., 2., 1., 1., 1., 1.,\n",
       "       1., 1., 1., 1., 1., 1., 1., 1., 1., 1., 1., 1., 1., 1., 1., 1., 1.,\n",
       "       1., 2., 1., 1., 2., 1., 1., 1., 1., 2., 1., 1., 1., 1., 1., 1., 1.,\n",
       "       1., 1., 1., 2., 1., 1., 1., 1., 1., 1., 1., 1., 1., 2., 1., 1., 1.,\n",
       "       1., 1., 1., 2., 1., 2., 2., 1., 1., 1., 1., 1., 1., 2., 1., 1., 1.,\n",
       "       2., 1., 1., 1., 1., 1., 1., 1., 1., 1., 1., 1., 1., 2., 2., 2., 1.,\n",
       "       2., 1., 1., 1., 1., 1., 2., 1., 1., 1., 1., 1., 1., 2., 1., 2., 1.,\n",
       "       2., 2., 2., 1., 1., 2., 1., 1., 2., 1., 2., 2., 1., 1., 2., 1., 1.,\n",
       "       1., 1., 1., 1., 1., 2., 1., 1., 1., 1., 1., 1., 2., 1., 1., 1., 1.,\n",
       "       2., 1., 1., 1., 1., 1., 1., 1., 1., 1., 1., 1., 1., 1., 1., 1., 1.,\n",
       "       1., 1., 1., 1., 1., 2., 1., 1., 1., 2., 1., 1., 2., 1., 1., 1., 1.,\n",
       "       1., 1., 1., 1., 1., 1., 1., 1., 1., 1., 1., 1., 2., 1., 1., 1., 1.,\n",
       "       1., 2., 1., 1., 1., 1., 1., 1., 1., 1., 1., 2., 1., 1., 1., 1., 1.,\n",
       "       1., 1., 1., 1., 1., 1., 1., 1., 1., 1., 1., 1., 1., 1., 1., 1., 2.,\n",
       "       1., 1., 1., 1., 1., 2., 1., 1., 1., 1., 2., 1., 1., 1., 1., 1., 1.,\n",
       "       1., 1., 1., 1., 1., 1., 1., 1., 1., 1., 1., 2., 2., 1., 1., 1., 1.,\n",
       "       1., 2., 1., 1., 1., 1., 1., 1., 1., 1., 1., 1., 1., 1., 1., 1., 1.,\n",
       "       1., 1., 1., 1., 1., 1., 1., 1., 1., 1., 2., 1., 1., 1., 1., 1., 1.,\n",
       "       1., 2., 1., 1., 1., 1., 2., 1., 1., 1., 1., 1., 1., 2., 2., 1., 1.,\n",
       "       1., 1., 1., 1., 1., 1., 1., 1., 1., 1., 1., 1., 1., 1., 1., 1., 2.,\n",
       "       1., 1., 1., 1., 1., 1., 2., 1., 1., 2., 1., 1., 1., 1., 1., 1., 1.,\n",
       "       1., 1., 1., 1., 1., 1., 1., 1., 1., 1., 2., 1., 1., 1., 1., 1., 1.,\n",
       "       1., 1., 1., 1., 1., 1., 1., 1., 2., 2., 1., 1., 1., 1., 1., 1., 2.,\n",
       "       2., 1., 1., 2., 1., 1., 1., 1., 1., 1., 2., 1., 1., 1., 1., 1., 1.,\n",
       "       2., 1., 1., 2., 1., 1., 1.])"
      ]
     },
     "execution_count": 160,
     "metadata": {},
     "output_type": "execute_result"
    }
   ],
   "source": [
    "# running the simulation 500 times\n",
    "\n",
    "results = make_array()\n",
    "\n",
    "for i in np.arange(500):\n",
    "    results = np.append(results, simulation())\n",
    "    \n",
    "results"
   ]
  },
  {
   "cell_type": "code",
   "execution_count": 161,
   "metadata": {},
   "outputs": [
    {
     "data": {
      "text/plain": [
       "[420, 80]"
      ]
     },
     "execution_count": 161,
     "metadata": {},
     "output_type": "execute_result"
    }
   ],
   "source": [
    "# counting the number of 1's and 2's in the results array \n",
    "# to determine how many blue and brown-eyed offspring there are\n",
    "\n",
    "ones = 0\n",
    "twos = 0\n",
    "\n",
    "i = len(results) - 1\n",
    "\n",
    "while i >= 0:\n",
    "    if (int(results[i]) == 1):\n",
    "        ones += 1\n",
    "    else:\n",
    "        twos += 1\n",
    "    i -= 1\n",
    "\n",
    "lst = [ones, twos]\n",
    "lst"
   ]
  },
  {
   "cell_type": "code",
   "execution_count": 162,
   "metadata": {},
   "outputs": [
    {
     "data": {
      "text/plain": [
       "Text(0, 0.5, 'Number of Times Eye Color is Generated')"
      ]
     },
     "execution_count": 162,
     "metadata": {},
     "output_type": "execute_result"
    },
    {
     "data": {
      "image/png": "[encoded data removed]",
      "text/plain": [
       "<Figure size 432x288 with 1 Axes>"
      ]
     },
     "metadata": {
      "needs_background": "light"
     },
     "output_type": "display_data"
    }
   ],
   "source": [
    "# visualizing the results in a bar chart\n",
    "\n",
    "labels = ['Brown eyes', 'Blue eyes']\n",
    "plt.bar(labels, lst)\n",
    "plt.title(\"Great Grandchild's Eye Color\")\n",
    "plt.xlabel(\"Eye color\")\n",
    "plt.ylabel(\"Number of Times Eye Color is Generated\")"
   ]
  },
  {
   "cell_type": "markdown",
   "metadata": {},
   "source": [
    "### Recombination Simulation #2\n",
    "\n",
    "In this simulation, 6/8 of the great-grandparents have blue eyes.\n",
    "\n",
    "##### Great-grandparent eye colors and locations\n",
    "- Great-grandparent 1: blue eyed\n",
    "    - **Location 1:** 22\n",
    "    - **Location 2:** 22\n",
    "    - **Location 3:** 22\n",
    "- Great-grandparent 2: blue eyed\n",
    "    - **Location 1:** 22\n",
    "    - **Location 2:** 22\n",
    "    - **Location 3:** 22\n",
    "- Great-grandparent 3: blue eyed\n",
    "    - **Location 1:** 22\n",
    "    - **Location 2:** 22\n",
    "    - **Location 3:** 22\n",
    "- Great-grandparent 4: blue eyed\n",
    "    - **Location 1:** 22\n",
    "    - **Location 2:** 22\n",
    "    - **Location 3:** 22\n",
    "- Great-grandparent 5: blue eyed\n",
    "    - **Location 1:** 22\n",
    "    - **Location 2:** 22\n",
    "    - **Location 3:** 22\n",
    "- Great-grandparent 6: brown eyed\n",
    "    - **Location 1:** 11\n",
    "    - **Location 2:** 11\n",
    "    - **Location 3:** 11\n",
    "- Great-grandparent 7: brown eyed\n",
    "    - **Location 1:** 11\n",
    "    - **Location 2:** 11\n",
    "    - **Location 3:** 11\n",
    "- Great-grandparent 8: brown eyed\n",
    "    - **Location 1:** 11\n",
    "    - **Location 2:** 11\n",
    "    - **Location 3:** 11"
   ]
  },
  {
   "cell_type": "code",
   "execution_count": 163,
   "metadata": {},
   "outputs": [],
   "source": [
    "# Creating lists of great grandparents' location values\n",
    "ggp1_loc1 = ['2'*100, '2'*100]\n",
    "ggp1_loc2 = ['2'*100, '2'*100]\n",
    "ggp1_loc3 = ['2'*100, '2'*100]\n",
    "\n",
    "ggp2_loc1 = ['2'*100, '2'*100]\n",
    "ggp2_loc2 = ['2'*100, '2'*100]\n",
    "ggp2_loc3 = ['2'*100, '2'*100]\n",
    "\n",
    "ggp3_loc1 = ['2'*100, '2'*100]\n",
    "ggp3_loc2 = ['2'*100, '2'*100]\n",
    "ggp3_loc3 = ['2'*100, '2'*100]\n",
    "\n",
    "ggp4_loc1 = ['2'*100, '2'*100]\n",
    "ggp4_loc2 = ['2'*100, '2'*100]\n",
    "ggp4_loc3 = ['2'*100, '2'*100]\n",
    "\n",
    "ggp5_loc1 = ['2'*100, '2'*100]\n",
    "ggp5_loc2 = ['2'*100, '2'*100]\n",
    "ggp5_loc3 = ['2'*100, '2'*100]\n",
    "\n",
    "ggp6_loc1 = ['2'*100, '2'*100]\n",
    "ggp6_loc2 = ['2'*100, '2'*100]\n",
    "ggp6_loc3 = ['2'*100, '2'*100]\n",
    "\n",
    "ggp7_loc1 = ['1'*100, '1'*100]\n",
    "ggp7_loc2 = ['1'*100, '1'*100]\n",
    "ggp7_loc3 = ['1'*100, '1'*100]\n",
    "\n",
    "ggp8_loc1 = ['1'*100, '1'*100]\n",
    "ggp8_loc2 = ['1'*100, '1'*100]\n",
    "ggp8_loc3 = ['1'*100, '1'*100]\n",
    "\n",
    "side1_loc1 = [ggp1_loc1, ggp8_loc1, ggp3_loc1, ggp4_loc1]\n",
    "side2_loc1 = [ggp2_loc1, ggp7_loc1, ggp5_loc1, ggp6_loc1]\n",
    "side1_loc2 = [ggp1_loc2, ggp8_loc2, ggp3_loc2, ggp4_loc2]\n",
    "side2_loc2 = [ggp2_loc2, ggp7_loc2, ggp5_loc2, ggp6_loc2]\n",
    "side1_loc3 = [ggp1_loc3, ggp8_loc3, ggp3_loc3, ggp4_loc3]\n",
    "side2_loc3 = [ggp2_loc3, ggp7_loc3, ggp5_loc3, ggp6_loc3]"
   ]
  },
  {
   "cell_type": "code",
   "execution_count": 164,
   "metadata": {},
   "outputs": [
    {
     "data": {
      "text/plain": [
       "array([2., 1., 2., 2., 2., 2., 2., 2., 2., 2., 2., 2., 1., 2., 1., 2., 1.,\n",
       "       2., 2., 1., 2., 2., 2., 2., 2., 2., 2., 2., 1., 2., 2., 1., 2., 2.,\n",
       "       2., 2., 2., 2., 2., 2., 2., 2., 2., 2., 2., 2., 1., 1., 1., 2., 2.,\n",
       "       2., 2., 2., 2., 2., 2., 2., 1., 2., 1., 2., 1., 2., 2., 1., 2., 2.,\n",
       "       1., 2., 2., 2., 2., 2., 2., 1., 2., 1., 1., 2., 2., 2., 2., 2., 2.,\n",
       "       2., 2., 2., 2., 2., 2., 1., 2., 2., 2., 1., 2., 2., 2., 2., 2., 2.,\n",
       "       1., 2., 2., 2., 2., 2., 2., 2., 2., 2., 2., 2., 1., 2., 2., 2., 2.,\n",
       "       2., 2., 2., 2., 2., 2., 2., 1., 2., 2., 2., 1., 2., 1., 1., 2., 1.,\n",
       "       2., 2., 2., 2., 2., 2., 2., 2., 2., 2., 1., 2., 1., 2., 2., 1., 2.,\n",
       "       2., 2., 2., 2., 2., 2., 1., 2., 2., 2., 2., 2., 2., 2., 2., 2., 2.,\n",
       "       2., 2., 1., 2., 2., 2., 2., 2., 1., 2., 2., 2., 2., 2., 2., 2., 2.,\n",
       "       1., 2., 2., 2., 1., 2., 2., 2., 2., 2., 2., 2., 2., 2., 2., 2., 2.,\n",
       "       2., 2., 2., 2., 2., 2., 2., 2., 1., 2., 2., 1., 2., 2., 2., 2., 2.,\n",
       "       2., 1., 2., 2., 2., 2., 1., 2., 2., 2., 2., 2., 2., 1., 2., 2., 2.,\n",
       "       2., 1., 2., 2., 2., 1., 2., 1., 2., 2., 2., 2., 2., 2., 2., 2., 2.,\n",
       "       2., 2., 2., 2., 2., 2., 1., 2., 2., 2., 1., 2., 2., 2., 2., 2., 2.,\n",
       "       2., 2., 2., 1., 2., 2., 2., 2., 1., 2., 2., 2., 2., 2., 2., 2., 1.,\n",
       "       2., 1., 2., 2., 2., 1., 1., 1., 2., 2., 1., 2., 1., 2., 2., 1., 2.,\n",
       "       2., 1., 2., 2., 2., 2., 2., 2., 2., 2., 2., 2., 2., 2., 1., 2., 2.,\n",
       "       2., 1., 2., 2., 2., 2., 2., 2., 1., 2., 2., 2., 2., 2., 1., 2., 2.,\n",
       "       1., 2., 2., 1., 1., 2., 2., 1., 1., 2., 2., 2., 2., 2., 2., 2., 2.,\n",
       "       2., 2., 2., 2., 2., 2., 2., 2., 2., 1., 2., 2., 1., 1., 2., 2., 2.,\n",
       "       2., 2., 2., 1., 2., 2., 2., 2., 2., 2., 2., 2., 2., 1., 1., 1., 2.,\n",
       "       1., 2., 2., 1., 2., 2., 1., 2., 2., 2., 2., 1., 1., 2., 2., 1., 2.,\n",
       "       2., 2., 2., 2., 1., 2., 2., 1., 2., 2., 2., 2., 1., 2., 2., 2., 2.,\n",
       "       2., 2., 2., 1., 2., 2., 2., 2., 1., 2., 2., 2., 1., 2., 2., 2., 2.,\n",
       "       1., 2., 2., 2., 2., 2., 1., 2., 2., 2., 2., 2., 1., 1., 2., 1., 2.,\n",
       "       2., 2., 2., 2., 1., 2., 2., 1., 2., 2., 2., 2., 2., 2., 2., 1., 2.,\n",
       "       2., 2., 2., 2., 2., 2., 2., 2., 2., 2., 2., 1., 1., 2., 2., 2., 2.,\n",
       "       2., 2., 2., 2., 2., 2., 2.])"
      ]
     },
     "execution_count": 164,
     "metadata": {},
     "output_type": "execute_result"
    }
   ],
   "source": [
    "# running the simulation 500 times\n",
    "\n",
    "results = make_array()\n",
    "\n",
    "for i in np.arange(500):\n",
    "    results = np.append(results, simulation())\n",
    "    \n",
    "results"
   ]
  },
  {
   "cell_type": "code",
   "execution_count": 165,
   "metadata": {},
   "outputs": [
    {
     "data": {
      "text/plain": [
       "[94, 406]"
      ]
     },
     "execution_count": 165,
     "metadata": {},
     "output_type": "execute_result"
    }
   ],
   "source": [
    "# counting the number of 1's and 2's in the results array \n",
    "# to determine how many blue and brown-eyed offspring there are\n",
    "\n",
    "ones = 0\n",
    "twos = 0\n",
    "\n",
    "i = len(results) - 1\n",
    "\n",
    "while i >= 0:\n",
    "    if (int(results[i]) == 1):\n",
    "        ones += 1\n",
    "    else:\n",
    "        twos += 1\n",
    "    i -= 1\n",
    "\n",
    "lst = [ones, twos]\n",
    "lst"
   ]
  },
  {
   "cell_type": "code",
   "execution_count": 166,
   "metadata": {},
   "outputs": [
    {
     "data": {
      "text/plain": [
       "Text(0, 0.5, 'Number of Times Eye Color is Generated')"
      ]
     },
     "execution_count": 166,
     "metadata": {},
     "output_type": "execute_result"
    },
    {
     "data": {
      "image/png": "[encoded data removed]",
      "text/plain": [
       "<Figure size 432x288 with 1 Axes>"
      ]
     },
     "metadata": {
      "needs_background": "light"
     },
     "output_type": "display_data"
    }
   ],
   "source": [
    "# visualizing the results in a bar chart\n",
    "\n",
    "labels = ['Brown eyes', 'Blue eyes']\n",
    "plt.bar(labels, lst)\n",
    "plt.title(\"Great Grandchild's Eye Color\")\n",
    "plt.xlabel(\"Eye color\")\n",
    "plt.ylabel(\"Number of Times Eye Color is Generated\")"
   ]
  },
  {
   "cell_type": "markdown",
   "metadata": {},
   "source": [
    "### Analysis"
   ]
  },
  {
   "cell_type": "markdown",
   "metadata": {},
   "source": [
    "Based off of the results from the first recombination simulation, 420/500 of the simulations had a great grandchild that had brown eyes and 80/500 of the simulations had a great grandchild that had blue eyes. These results are expected and do not come as a surprise considering that, in this simulation, there were more great-grandparents with brown eyes. Also, brown alleles are dominant over blue alleles.\n",
    "\n",
    "Based off of the results from the second recombination simulation, 94/500 of the simulations had a great grandchild that had brown eyes and 406/500 of the simulations had a great grandchild that had blue eyes. These results are expected and do not come as a surprise considering that, in this simulation, there were more great-grandparents with blue eyes. Blue is the recessive allele, but having a large number of individuals who started off with this allele countered this fact. In fact, if one more great-grandparent had brown eyes, the results would flip and there would be a dominant number of offspring with brown eyes. Having two great-grandparents is the minimum number needed to obtain results where blue-eyed offspring are more common than brown-eyed offspring.\n",
    "\n",
    "These simulations suggests that having brown eyes is more probable than having blue eyes. This can be seen in the real world, where brown eyes are more commonplace overall."
   ]
  },
  {
   "cell_type": "code",
   "execution_count": null,
   "metadata": {},
   "outputs": [],
   "source": []
  }
 ],
 "metadata": {
  "kernelspec": {
   "display_name": "Python 3",
   "language": "python",
   "name": "python3"
  },
  "language_info": {
   "codemirror_mode": {
    "name": "ipython",
    "version": 3
   },
   "file_extension": ".py",
   "mimetype": "text/x-python",
   "name": "python",
   "nbconvert_exporter": "python",
   "pygments_lexer": "ipython3",
   "version": "3.6.8"
  }
 },
 "nbformat": 4,
 "nbformat_minor": 2
}
